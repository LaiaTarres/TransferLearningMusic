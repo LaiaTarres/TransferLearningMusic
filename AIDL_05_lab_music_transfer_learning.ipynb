{
  "nbformat": 4,
  "nbformat_minor": 0,
  "metadata": {
    "colab": {
      "name": "AIDL_05_lab_music_transfer_learning.ipynb",
      "provenance": [],
      "collapsed_sections": []
    },
    "kernelspec": {
      "name": "python3",
      "display_name": "Python 3"
    },
    "accelerator": "GPU"
  },
  "cells": [
    {
      "cell_type": "markdown",
      "metadata": {
        "id": "HSqSoFQ7czAK"
      },
      "source": [
        "## Audio Transfer Learning with Scikit-learn and Pytorch"
      ]
    },
    {
      "cell_type": "markdown",
      "metadata": {
        "id": "Cq9Yujvbc4UT"
      },
      "source": [
        "We use pre-trained Pytorch models as audio feature extractors, and Scikit-learn classifiers are employed to rapidly prototype competent audio classifiers that can be trained on a CPU.\n",
        "\n",
        "See the pipeline when using the VGGish model:\n",
        "\n",
        "![sklearn-audio-transfer-learning (1).png](data:image/png;base64,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)\n"
      ]
    },
    {
      "cell_type": "markdown",
      "metadata": {
        "id": "XNpWQDnJCd1b"
      },
      "source": [
        "We will use the code within this [repository](https://github.com/LaiaTarres/TransferLearningMusic.git) to help with the implementation of the lab."
      ]
    },
    {
      "cell_type": "code",
      "metadata": {
        "colab": {
          "base_uri": "https://localhost:8080/"
        },
        "id": "MFZZbnrc_-pQ",
        "outputId": "d5e14cec-2e88-4145-c21d-1ce437476a83"
      },
      "source": [
        "!git clone https://github.com/LaiaTarres/TransferLearningMusic.git"
      ],
      "execution_count": 1,
      "outputs": [
        {
          "output_type": "stream",
          "text": [
            "Cloning into 'TransferLearningMusic'...\n",
            "remote: Enumerating objects: 41, done.\u001b[K\n",
            "remote: Counting objects: 100% (41/41), done.\u001b[K\n",
            "remote: Compressing objects: 100% (40/40), done.\u001b[K\n",
            "remote: Total 41 (delta 11), reused 0 (delta 0), pack-reused 0\u001b[K\n",
            "Unpacking objects: 100% (41/41), done.\n"
          ],
          "name": "stdout"
        }
      ]
    },
    {
      "cell_type": "markdown",
      "metadata": {
        "id": "B7Ed2cUc_Kqu"
      },
      "source": [
        "Let's change the path so we can work with the code provided by the previously mentioned github."
      ]
    },
    {
      "cell_type": "code",
      "metadata": {
        "colab": {
          "base_uri": "https://localhost:8080/"
        },
        "id": "60phcCsqAMiB",
        "outputId": "c4ffe1f4-7e8c-4046-bfbd-88b154a15886"
      },
      "source": [
        "%cd TransferLearningMusic"
      ],
      "execution_count": 2,
      "outputs": [
        {
          "output_type": "stream",
          "text": [
            "/content/TransferLearningMusic\n"
          ],
          "name": "stdout"
        }
      ]
    },
    {
      "cell_type": "markdown",
      "metadata": {
        "id": "O35g2hK5dXiR"
      },
      "source": [
        "#Loading the dataset"
      ]
    },
    {
      "cell_type": "markdown",
      "metadata": {
        "id": "skH-vtGUdmX8"
      },
      "source": [
        "As an example, let's download the GTZAN dataset. This dataset can be found in the zip file, which you will have to upload to your google drive preferred location. Approximated download time: between 30 min and an hour. We already provide (fault-filtered) train/test partitions in sklearn-audio-transfer-learning/ data /index /GTZAN/. The dataset contains 10 classes and the scripts you need to run this notebook."
      ]
    },
    {
      "cell_type": "markdown",
      "metadata": {
        "id": "X7MCESqpKEC4"
      },
      "source": [
        "The configuration file, where we the paths and hyperparameters are provided"
      ]
    },
    {
      "cell_type": "code",
      "metadata": {
        "id": "gBiEC8AQcvuh"
      },
      "source": [
        "DATA_FOLDER = 'data/'\n",
        "config = {\n",
        "    'dataset': 'GTZAN',\n",
        "    'num_classes_dataset': 10,\n",
        "    'audio_folder': DATA_FOLDER + 'audio/GTZAN/genres/',\n",
        "    'audio_paths_train': DATA_FOLDER + 'index/GTZAN/train_filtered.txt',\n",
        "    'audio_paths_test': DATA_FOLDER + 'index/GTZAN/test_filtered.txt',\n",
        "    'pca': False, # resulting number of dimensions to be reduced to (e.g., 128), or False to desactivate it\n",
        "    'model_type': 'SVM', # 'linearSVM', 'SVM', 'perceptron', 'MLP', 'kNN'\n",
        "    'load_training_data': 'training_data_GTZAN_vggish_pytorch.npz', # False or 'training_data_GTZAN_vggish_pytorch.npz', \n",
        "    'load_evaluation_data': 'evaluation_data_GTZAN_vggish_pytorch.npz' # False or 'evaluation_data_GTZAN_vggish.npz'\n",
        "}"
      ],
      "execution_count": 3,
      "outputs": []
    },
    {
      "cell_type": "markdown",
      "metadata": {
        "id": "j_5tQoredZzd"
      },
      "source": [
        "#Preparing the training data"
      ]
    },
    {
      "cell_type": "markdown",
      "metadata": {
        "id": "px7GzUseeMZ0"
      },
      "source": [
        "We will take the vggish model pretrained as feature extractor. You can either extract the training features or load the training data. This las option has been done to save time. That way, loading [X, Y, IDS] takes less time than extracting them.\n",
        "\n",
        "If you are interested in how the feature extraction works, check the extract_features_wrapper function."
      ]
    },
    {
      "cell_type": "code",
      "metadata": {
        "colab": {
          "base_uri": "https://localhost:8080/"
        },
        "id": "JD1QLVi2K9oF",
        "outputId": "4cc6fa3a-620e-49e4-9d36-812df32ea888"
      },
      "source": [
        "!pip install soundfile"
      ],
      "execution_count": 14,
      "outputs": [
        {
          "output_type": "stream",
          "text": [
            "Requirement already satisfied: soundfile in /usr/local/lib/python3.7/dist-packages (0.10.3.post1)\n",
            "Requirement already satisfied: cffi>=1.0 in /usr/local/lib/python3.7/dist-packages (from soundfile) (1.14.5)\n",
            "Requirement already satisfied: pycparser in /usr/local/lib/python3.7/dist-packages (from cffi>=1.0->soundfile) (2.20)\n"
          ],
          "name": "stdout"
        }
      ]
    },
    {
      "cell_type": "code",
      "metadata": {
        "colab": {
          "base_uri": "https://localhost:8080/"
        },
        "id": "xZsb28wx6HqY",
        "outputId": "8ce9f703-5bb3-4b0f-eb3e-5c1f9a2b2c50"
      },
      "source": [
        "import numpy as np\n",
        "import src.utils as utils\n",
        "import src.vggish_input as vggish_input\n",
        "import src.vggish_features as vggish_features\n",
        "import torch\n",
        "\n",
        "\n",
        "[paths_train, path2gt_train, path2onehot_train] = utils.load_path2gt(config['audio_paths_train'], config)\n",
        "[paths_test, path2gt_test, path2onehot_test] = utils.load_path2gt(config['audio_paths_test'], config)\n",
        "\n",
        "if config['load_training_data']:\n",
        "        print('Loading training features..')\n",
        "        training_data = np.load(DATA_FOLDER + 'audio_representations/' + config['load_training_data'])\n",
        "        [X, Y, IDS] = [training_data['X'], training_data['Y'], training_data['IDS']]\n",
        "\n",
        "else:\n",
        "        print('Extracting training features..')\n",
        "        #download the database if you haven't done it before, paste the following commands in another cell. Downoad in the folder: sklean-audio-tranfer-learning/data/audio\n",
        "        #!wget http://opihi.cs.uvic.ca/sound/genres.tar.gz\n",
        "        #!tar -zxvf genres.tar.gz\n",
        "        #Model definition\n",
        "        model_pytorch = torch.hub.load('harritaylor/torchvggish', 'vggish', preprocess=False)\n",
        "        model_pytorch.eval()\n",
        "        device_pytorch = torch.device(\"cuda\" if torch.cuda.is_available() else \"cpu\")\n",
        "        model_pytorch.to(device_pytorch)\n",
        "        #Extracting the features by passing through the inputs to the model\n",
        "        [X, Y, IDS] = vggish_features.extract_features_wrapper(paths_train, path2gt_train, model = model_pytorch, \n",
        "                                                               configuration = config, device = device_pytorch, \n",
        "                                                               save_as='training_data_{}_{}'.format(config['dataset'], 'vggish'), \n",
        "                                                               data_folder=DATA_FOLDER)\n",
        "print('Done!')"
      ],
      "execution_count": 15,
      "outputs": [
        {
          "output_type": "stream",
          "text": [
            "Loading training features..\n",
            "Done!\n"
          ],
          "name": "stdout"
        }
      ]
    },
    {
      "cell_type": "markdown",
      "metadata": {
        "id": "1hxJDuZgdePn"
      },
      "source": [
        "#Build an audio classifier"
      ]
    },
    {
      "cell_type": "markdown",
      "metadata": {
        "id": "q_n8V8HGKvWs"
      },
      "source": [
        "It is time to build the classifier. First, we will chose to do PCA feature reduction as indicated in the configuration file."
      ]
    },
    {
      "cell_type": "code",
      "metadata": {
        "id": "yMIV3kRYel0g",
        "colab": {
          "base_uri": "https://localhost:8080/"
        },
        "outputId": "86ae5be5-9505-495d-ab87-3ee26571715a"
      },
      "source": [
        "from sklearn import decomposition\n",
        "if config['pca']: # for dimensionality reduction\n",
        "        pca = decomposition.PCA(n_components=config['pca'], whiten=True)\n",
        "        pca.fit(X)\n",
        "        X = pca.transform(X)\n",
        "        print(\"Shape after PCA: \", X.shape)\n",
        "else:\n",
        "        print(\"We don't do PCA. It's ok!\")"
      ],
      "execution_count": 16,
      "outputs": [
        {
          "output_type": "stream",
          "text": [
            "We don't do PCA. It's ok!\n"
          ],
          "name": "stdout"
        }
      ]
    },
    {
      "cell_type": "markdown",
      "metadata": {
        "id": "-rNHwbIROMHA"
      },
      "source": [
        "Then, we will train the classifier chosen in the configuration file with the traning data."
      ]
    },
    {
      "cell_type": "code",
      "metadata": {
        "id": "hsEty9jFV0Bu",
        "colab": {
          "base_uri": "https://localhost:8080/"
        },
        "outputId": "dfb2d3fa-72cc-4486-a9b1-4027f036d9c1"
      },
      "source": [
        "from sklearn.svm import LinearSVC\n",
        "from sklearn.svm import SVC\n",
        "from sklearn.linear_model import SGDClassifier\n",
        "from sklearn.neural_network import MLPClassifier\n",
        "from sklearn.neighbors import KNeighborsClassifier\n",
        "\n",
        "def define_classification_model():\n",
        "    \"\"\" Select and define the model you will use for the classifier. \n",
        "    \"\"\"\n",
        "    if config['model_type'] == 'linearSVM': # linearSVM can be faster than SVM\n",
        "        return LinearSVC(C=1)\n",
        "    elif config['model_type'] == 'SVM': # non-linearSVM, we can use the kernel trick\n",
        "        return SVC(C=1, kernel='rbf', gamma='scale')\n",
        "    elif config['model_type'] == 'kNN': # k-nearest neighbour\n",
        "        return KNeighborsClassifier(n_neighbors=1, metric='cosine')\n",
        "    elif config['model_type'] == 'perceptron': # otpimizes log-loss, also known as cross-entropy with sgd\n",
        "        return SGDClassifier(max_iter=600, verbose=0.5, loss='log', learning_rate='optimal')\n",
        "    elif config['model_type'] == 'MLP': # otpimizes log-loss, also known as cross-entropy with sgd\n",
        "        return MLPClassifier(hidden_layer_sizes=(20,), max_iter=600, verbose=10, \n",
        "               solver='sgd', learning_rate='constant', learning_rate_init=0.001)\n",
        "        \n",
        "print('Fitting model..')\n",
        "model = define_classification_model()\n",
        "model.fit(X, Y)"
      ],
      "execution_count": 17,
      "outputs": [
        {
          "output_type": "stream",
          "text": [
            "Fitting model..\n"
          ],
          "name": "stdout"
        },
        {
          "output_type": "execute_result",
          "data": {
            "text/plain": [
              "SVC(C=1, break_ties=False, cache_size=200, class_weight=None, coef0=0.0,\n",
              "    decision_function_shape='ovr', degree=3, gamma='scale', kernel='rbf',\n",
              "    max_iter=-1, probability=False, random_state=None, shrinking=True,\n",
              "    tol=0.001, verbose=False)"
            ]
          },
          "metadata": {
            "tags": []
          },
          "execution_count": 17
        }
      ]
    },
    {
      "cell_type": "markdown",
      "metadata": {
        "id": "wiuEUeK1LRA1"
      },
      "source": [
        "Hurray! Now you have the classificator trained and ready to use. Let's evaluate it."
      ]
    },
    {
      "cell_type": "code",
      "metadata": {
        "id": "pIFq0oivWH3m",
        "colab": {
          "base_uri": "https://localhost:8080/"
        },
        "outputId": "22ed0ac7-2690-480c-e14c-8bf17c59c92e"
      },
      "source": [
        "from sklearn.metrics import accuracy_score\n",
        "from sklearn.metrics import confusion_matrix\n",
        "import numpy as np\n",
        "\n",
        "print('Evaluating model..')\n",
        "\n",
        "if config['load_evaluation_data']:\n",
        "        print('Loading evaluation features..')\n",
        "        evaluation_data = np.load(DATA_FOLDER + 'audio_representations/' + config['load_evaluation_data'])\n",
        "        [X_eval, IDS_eval] = [evaluation_data['X'], evaluation_data['IDS']]\n",
        "\n",
        "else:\n",
        "        print('Extracting evaluation features..')\n",
        "        [X_eval, Y_eval, IDS_eval] = extract_features_wrapper(paths_test, path2gt_test, model='vggish', \n",
        "                                               save_as='evaluation_data_{}_{}'.format(config['dataset'], 'vggish'))\n",
        "\n",
        "if config['pca']: # for dimensionality reduction\n",
        "        X_eval = pca.transform(X_eval)\n",
        "        print(\"Shape after PCA: \", X_eval.shape)\n",
        "\n",
        "print('Predict labels on evaluation data')\n",
        "pred = model.predict(X_eval)\n",
        "\n",
        "y_pred = []\n",
        "y_true = []\n",
        "extension = IDS_eval[0].split('.')[-1] # find original extension\n",
        "for pt in paths_test:\n",
        "        tmp = pt.split('.')\n",
        "        tmp[-1] = extension\n",
        "        pt_extension = '.'.join(tmp) # fix extension\n",
        "        y_pred.append(np.argmax(np.bincount(pred[np.where(IDS_eval==pt_extension)]))) # majority voting\n",
        "        y_true.append(int(path2gt_test[pt]))\n",
        "\n",
        "# print and store the results\n",
        "conf_matrix = confusion_matrix(y_true, y_pred)\n",
        "acc = accuracy_score(y_true, y_pred)\n",
        "print(f'The model has achieved an accuracy of: {acc}')\n",
        "print(f'The confusion matrix from this experiment: \\n{conf_matrix}')"
      ],
      "execution_count": 18,
      "outputs": [
        {
          "output_type": "stream",
          "text": [
            "Evaluating model..\n",
            "Loading evaluation features..\n",
            "Predict labels on evaluation data\n",
            "The model has achieved an accuracy of: 0.7689655172413793\n",
            "The confusion matrix from this experiment: \n",
            "[[13  0  0  0  0 13  0  0  2  3]\n",
            " [ 0 31  0  0  0  0  0  0  0  0]\n",
            " [ 1  0 24  1  0  0  0  2  0  2]\n",
            " [ 0  0  0 24  0  0  0  3  2  0]\n",
            " [ 0  0  0  0 25  0  0  1  0  1]\n",
            " [ 0  2  0  0  0 25  0  0  0  0]\n",
            " [ 0  0  0  1  0  0 24  0  0  2]\n",
            " [ 0  0  0  1  3  0  0 24  0  2]\n",
            " [ 0  0  0  1  5  0  0  2 17  1]\n",
            " [ 2  0  3  2  0  0  4  4  1 16]]\n"
          ],
          "name": "stdout"
        }
      ]
    },
    {
      "cell_type": "markdown",
      "metadata": {
        "id": "QA6-dP9OemRU"
      },
      "source": [
        "Congrats, you have build a music genre classifier! The model we developed (VGGish + 100 PCA + SVM) achieved 77.93% accuracy in our test set."
      ]
    },
    {
      "cell_type": "markdown",
      "metadata": {
        "id": "vxPByR8GdikP"
      },
      "source": [
        "#Results discussion"
      ]
    },
    {
      "cell_type": "markdown",
      "metadata": {
        "id": "1Yf3UfZ3Et_p"
      },
      "source": [
        "**1. Which setup gave you the best results? Any hypothesis why?**\n",
        "\n",
        "<font color=”green”> YOUR ANSWER </font>\n",
        "\n",
        "---\n",
        "**2. Which setup gave you worst results? Any hypothesis why?**\n",
        "\n",
        "<font color=”green”> YOUR ANSWER </font>\n",
        "\n",
        "---\n",
        "**3. Why do we get different results when running several times the same neural network-based experiment?**\n",
        "\n",
        "<font color=”green”> YOUR ANSWER </font>"
      ]
    }
  ]
}